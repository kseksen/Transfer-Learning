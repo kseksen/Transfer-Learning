{
 "cells": [
  {
   "cell_type": "code",
   "execution_count": 11,
   "id": "35b1ebc3-2ea3-477b-9bc2-c0d1f13374d0",
   "metadata": {},
   "outputs": [],
   "source": [
    "import torch\n",
    "from transformers import BertTokenizer, BertForSequenceClassification"
   ]
  },
  {
   "cell_type": "markdown",
   "id": "a87ddc2d-6bc8-4c1b-9250-ffb0fc238f8c",
   "metadata": {},
   "source": [
    "Transformers is a library that is used for accessing the pre-tained model of BERT and torch is used to run it "
   ]
  },
  {
   "cell_type": "code",
   "execution_count": 27,
   "id": "e753043a-dd87-42af-91fd-ed0058e2c688",
   "metadata": {},
   "outputs": [
    {
     "name": "stderr",
     "output_type": "stream",
     "text": [
      "Some weights of BertForSequenceClassification were not initialized from the model checkpoint at bert-base-uncased and are newly initialized: ['classifier.bias', 'classifier.weight']\n",
      "You should probably TRAIN this model on a down-stream task to be able to use it for predictions and inference.\n"
     ]
    },
    {
     "data": {
      "text/plain": [
       "BertForSequenceClassification(\n",
       "  (bert): BertModel(\n",
       "    (embeddings): BertEmbeddings(\n",
       "      (word_embeddings): Embedding(30522, 768, padding_idx=0)\n",
       "      (position_embeddings): Embedding(512, 768)\n",
       "      (token_type_embeddings): Embedding(2, 768)\n",
       "      (LayerNorm): LayerNorm((768,), eps=1e-12, elementwise_affine=True)\n",
       "      (dropout): Dropout(p=0.1, inplace=False)\n",
       "    )\n",
       "    (encoder): BertEncoder(\n",
       "      (layer): ModuleList(\n",
       "        (0-11): 12 x BertLayer(\n",
       "          (attention): BertAttention(\n",
       "            (self): BertSdpaSelfAttention(\n",
       "              (query): Linear(in_features=768, out_features=768, bias=True)\n",
       "              (key): Linear(in_features=768, out_features=768, bias=True)\n",
       "              (value): Linear(in_features=768, out_features=768, bias=True)\n",
       "              (dropout): Dropout(p=0.1, inplace=False)\n",
       "            )\n",
       "            (output): BertSelfOutput(\n",
       "              (dense): Linear(in_features=768, out_features=768, bias=True)\n",
       "              (LayerNorm): LayerNorm((768,), eps=1e-12, elementwise_affine=True)\n",
       "              (dropout): Dropout(p=0.1, inplace=False)\n",
       "            )\n",
       "          )\n",
       "          (intermediate): BertIntermediate(\n",
       "            (dense): Linear(in_features=768, out_features=3072, bias=True)\n",
       "            (intermediate_act_fn): GELUActivation()\n",
       "          )\n",
       "          (output): BertOutput(\n",
       "            (dense): Linear(in_features=3072, out_features=768, bias=True)\n",
       "            (LayerNorm): LayerNorm((768,), eps=1e-12, elementwise_affine=True)\n",
       "            (dropout): Dropout(p=0.1, inplace=False)\n",
       "          )\n",
       "        )\n",
       "      )\n",
       "    )\n",
       "    (pooler): BertPooler(\n",
       "      (dense): Linear(in_features=768, out_features=768, bias=True)\n",
       "      (activation): Tanh()\n",
       "    )\n",
       "  )\n",
       "  (dropout): Dropout(p=0.1, inplace=False)\n",
       "  (classifier): Linear(in_features=768, out_features=2, bias=True)\n",
       ")"
      ]
     },
     "execution_count": 27,
     "metadata": {},
     "output_type": "execute_result"
    }
   ],
   "source": [
    "model_name = \"bert-base-uncased\"\n",
    "tokenizer = BertTokenizer.from_pretrained(model_name)\n",
    "model = BertForSequenceClassification.from_pretrained(model_name, num_labels=2)  # Зададим 2 класса для классификации\n",
    "model.eval()"
   ]
  },
  {
   "cell_type": "markdown",
   "id": "453a4279-de2c-4e10-b4f9-d9ab96e0f806",
   "metadata": {},
   "source": [
    "A smaller version of BERT is used and the model is called 'bert-base-uncased'. tokenizer is used to convert text into numbers for the model to understand. The num_labels=2 means that BERT categorizes data into 2 classes "
   ]
  },
  {
   "cell_type": "code",
   "execution_count": 30,
   "id": "84821c8d-6f7d-4f8b-a93a-f2f372088db7",
   "metadata": {},
   "outputs": [],
   "source": [
    "def preprocess_text(text):\n",
    "    inputs = tokenizer(text, padding=True, truncation=True, return_tensors=\"pt\")\n",
    "    return inputs\n",
    "\n",
    "# this is used to convert the text into numbers"
   ]
  },
  {
   "cell_type": "code",
   "execution_count": 32,
   "id": "b2ee8e39-7fca-4040-8ffa-361c860dfaac",
   "metadata": {},
   "outputs": [],
   "source": [
    "def classify_text(text):\n",
    "    inputs = preprocess_text(text) # conversion of text into readable format for BERT\n",
    "    \n",
    "    if torch.cuda.is_available():\n",
    "        inputs = {key: value.to('cuda') for key, value in inputs.items()}\n",
    "        model.to('cuda')\n",
    "    \n",
    "    with torch.no_grad():\n",
    "        outputs = model(**inputs) # passing text through BERT to get a raw prediction scare output \n",
    "    \n",
    "    logits = outputs.logits\n",
    "    predicted_class = torch.argmax(logits, dim=-1).item() # finding the class with the highest score which will then become the prediction\n",
    "    \n",
    "    return predicted_class"
   ]
  },
  {
   "cell_type": "code",
   "execution_count": 34,
   "id": "3b71780c-fd7e-4277-943b-01714b3d4411",
   "metadata": {},
   "outputs": [
    {
     "name": "stdout",
     "output_type": "stream",
     "text": [
      "Predicted class: 1\n"
     ]
    }
   ],
   "source": [
    "text = \"Please God, let this work! I have a deadline\"\n",
    "predicted_class = classify_text(text)\n",
    "print(f\"Predicted class: {predicted_class}\") # the prediction class is 1 therefore 'positive' rather than the 0 'negative' class"
   ]
  }
 ],
 "metadata": {
  "kernelspec": {
   "display_name": "Python 3 (ipykernel)",
   "language": "python",
   "name": "python3"
  },
  "language_info": {
   "codemirror_mode": {
    "name": "ipython",
    "version": 3
   },
   "file_extension": ".py",
   "mimetype": "text/x-python",
   "name": "python",
   "nbconvert_exporter": "python",
   "pygments_lexer": "ipython3",
   "version": "3.11.7"
  }
 },
 "nbformat": 4,
 "nbformat_minor": 5
}
